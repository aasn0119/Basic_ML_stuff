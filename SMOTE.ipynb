{
 "cells": [
  {
   "cell_type": "markdown",
   "metadata": {},
   "source": [
    "## `SMOTE (Synthetic Minority Oversampling Technique)`\n",
    "SMOTE is a technique used in machine learing to address imbalance datasets where the minority class has significantly fewewr instances than the majority class. SMOTW involves generating synthetic instances of the minority class by inpolating b/w existing instances."
   ]
  },
  {
   "cell_type": "code",
   "execution_count": null,
   "metadata": {},
   "outputs": [],
   "source": []
  }
 ],
 "metadata": {
  "kernelspec": {
   "display_name": "base",
   "language": "python",
   "name": "python3"
  },
  "language_info": {
   "name": "python",
   "version": "3.11.5"
  }
 },
 "nbformat": 4,
 "nbformat_minor": 2
}
